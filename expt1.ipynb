{
 "cells": [
  {
   "cell_type": "code",
   "execution_count": 4,
   "id": "1db7038b",
   "metadata": {},
   "outputs": [
    {
     "name": "stdout",
     "output_type": "stream",
     "text": [
      "Num1: 10\n",
      "Num2: 20\n",
      "The sum of two numbers is 30\n"
     ]
    }
   ],
   "source": [
    "#ADDITION OF 2 NUMBERS\n",
    "\n",
    "num1 = int(input(\"Num1: \"))\n",
    "num2 = int(input(\"Num2: \"))\n",
    "num = num1+num2\n",
    "print(\"The sum of two numbers is\",num)"
   ]
  },
  {
   "cell_type": "code",
   "execution_count": 5,
   "id": "dfc2e4ab",
   "metadata": {},
   "outputs": [
    {
     "name": "stdout",
     "output_type": "stream",
     "text": [
      "Enter the number: 254\n",
      "254 is a even number\n"
     ]
    }
   ],
   "source": [
    "#EVEN OR ODD\n",
    "\n",
    "num1 = int(input(\"Enter the number: \"))\n",
    "if num%2==0:\n",
    "    print(num1,\"is a even number\")\n",
    "else:\n",
    "    print(num1,\"is a odd number\")"
   ]
  },
  {
   "cell_type": "code",
   "execution_count": null,
   "id": "14526e52",
   "metadata": {},
   "outputs": [],
   "source": [
    "#PRIME OR NOT\n",
    "\n",
    "num1 = int(input(\"Enter the number: \"))\n",
    "if num1%num1"
   ]
  },
  {
   "cell_type": "code",
   "execution_count": 7,
   "id": "07a025f9",
   "metadata": {},
   "outputs": [
    {
     "name": "stdout",
     "output_type": "stream",
     "text": [
      "400\n"
     ]
    }
   ],
   "source": [
    "#LARGEST OF 4 NUMBERS\n",
    "\n",
    "a = 20\n",
    "b=200\n",
    "c = 34\n",
    "d = 400\n",
    "\n",
    "if a>b and a>c and a>d:\n",
    "    print(a)\n",
    "elif b>a and b>c and b>d:\n",
    "    print(b)\n",
    "elif c>a and c>b and c>d:\n",
    "    print(c)\n",
    "elif d>a and d>b and d>c:\n",
    "    print(d)"
   ]
  },
  {
   "cell_type": "code",
   "execution_count": 20,
   "id": "d4c3b6c5",
   "metadata": {},
   "outputs": [
    {
     "name": "stdout",
     "output_type": "stream",
     "text": [
      "Enter the number: 4\n",
      "Factorial of 4 is 24\n"
     ]
    }
   ],
   "source": [
    "#FACTORIAL OF A NUMBER\n",
    "\n",
    "\n",
    "num1 = int(input(\"Enter the number: \"))\n",
    "num2 =1\n",
    "for i in range(1,num1+1,1):\n",
    "    num2 = i*num2\n",
    "\n",
    "print(\"Factorial of\",num1,\"is\",num2)"
   ]
  },
  {
   "cell_type": "code",
   "execution_count": 21,
   "id": "1ea9e49e",
   "metadata": {},
   "outputs": [
    {
     "name": "stdout",
     "output_type": "stream",
     "text": [
      "4321\n"
     ]
    }
   ],
   "source": [
    "#REVERSING A NUMBER\n",
    "\n",
    "n = 1234\n",
    "rev = 0\n",
    "while n > 0:\n",
    "    digit = n % 10\n",
    "    rev = rev * 10 + digit\n",
    "    n = n // 10\n",
    "print(rev)\n"
   ]
  },
  {
   "cell_type": "code",
   "execution_count": 24,
   "id": "237e778e",
   "metadata": {},
   "outputs": [
    {
     "name": "stdout",
     "output_type": "stream",
     "text": [
      "Enter the number: 5\n",
      "*\n",
      "**\n",
      "***\n",
      "****\n",
      "*****\n"
     ]
    }
   ],
   "source": [
    "#PRINT A PATTERN\n",
    "\n",
    "n = int(input(\"Enter the number: \" ))\n",
    "for i in range(1,n+1):\n",
    "        print(i*\"*\")"
   ]
  },
  {
   "cell_type": "code",
   "execution_count": 27,
   "id": "3fd841e9",
   "metadata": {},
   "outputs": [
    {
     "name": "stdout",
     "output_type": "stream",
     "text": [
      "Enter the table:5\n",
      "1 X 5 = 5\n",
      "1 X 5 = 10\n",
      "1 X 5 = 15\n",
      "1 X 5 = 20\n",
      "1 X 5 = 25\n",
      "1 X 5 = 30\n",
      "1 X 5 = 35\n",
      "1 X 5 = 40\n",
      "1 X 5 = 45\n",
      "1 X 5 = 50\n"
     ]
    }
   ],
   "source": [
    "#MULTLIPLICATION TABLE\n",
    "\n",
    "n = int(input(\"Enter the table:\"))\n",
    "for i in range (1,11):\n",
    "    print(\"1 X\",n,\"=\",n*i)"
   ]
  },
  {
   "cell_type": "code",
   "execution_count": 30,
   "id": "4389f768",
   "metadata": {},
   "outputs": [
    {
     "name": "stdout",
     "output_type": "stream",
     "text": [
      "Num1: 10\n",
      "Num2: 2\n",
      "Sum:  12\n",
      "Difference:  8\n",
      "Product:  20\n",
      "Quotient:  5.0\n",
      "Remainder:  0\n",
      "Exponent:  100\n"
     ]
    }
   ],
   "source": [
    "#CALCULATOR\n",
    "\n",
    "num1 = int(input(\"Num1: \"))\n",
    "num2 = int(input(\"Num2: \"))\n",
    "\n",
    "print(\"Sum: \",num1+num2)\n",
    "print(\"Difference: \",num1-num2)\n",
    "print(\"Product: \",num1*num2)\n",
    "print(\"Quotient: \",num1/num2)\n",
    "print('Remainder: ',num1%num2)\n",
    "print(\"Exponent: \",num1**num2)"
   ]
  },
  {
   "cell_type": "code",
   "execution_count": 42,
   "id": "46c69bba",
   "metadata": {},
   "outputs": [
    {
     "name": "stdout",
     "output_type": "stream",
     "text": [
      "Enter the string: eswar\n",
      "It is not Pallindrome\n"
     ]
    }
   ],
   "source": [
    "string1 = str(input(\"Enter the string: \"))\n",
    "\n",
    "if string1==string1[::-1]:\n",
    "    print(\"It is Pallindrome\")\n",
    "else: \n",
    "    print(\"It is not Pallindrome\")"
   ]
  },
  {
   "cell_type": "code",
   "execution_count": null,
   "id": "97baaef5",
   "metadata": {},
   "outputs": [],
   "source": []
  },
  {
   "cell_type": "code",
   "execution_count": null,
   "id": "e68c5850",
   "metadata": {},
   "outputs": [],
   "source": []
  }
 ],
 "metadata": {
  "kernelspec": {
   "display_name": "Python 3 (ipykernel)",
   "language": "python",
   "name": "python3"
  },
  "language_info": {
   "codemirror_mode": {
    "name": "ipython",
    "version": 3
   },
   "file_extension": ".py",
   "mimetype": "text/x-python",
   "name": "python",
   "nbconvert_exporter": "python",
   "pygments_lexer": "ipython3",
   "version": "3.11.5"
  }
 },
 "nbformat": 4,
 "nbformat_minor": 5
}
